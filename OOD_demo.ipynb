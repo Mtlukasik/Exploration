{
  "cells": [
    {
      "cell_type": "markdown",
      "metadata": {
        "id": "view-in-github",
        "colab_type": "text"
      },
      "source": [
        "<a href=\"https://colab.research.google.com/github/Mtlukasik/Exploration/blob/main/OOD_demo.ipynb\" target=\"_parent\"><img src=\"https://colab.research.google.com/assets/colab-badge.svg\" alt=\"Open In Colab\"/></a>"
      ]
    },
    {
      "cell_type": "markdown",
      "metadata": {
        "id": "TigNdgTD0qqo"
      },
      "source": [
        "## Import libraries\n",
        "\n",
        "- Import additional libraries of your choice.\n",
        "\n",
        "Although you are expected to demonstrate understanding of ML/DS/statistics tools, a particular choice of libraries and frameworks will not affect evaluation of the solution."
      ],
      "id": "TigNdgTD0qqo"
    },
    {
      "cell_type": "code",
      "execution_count": 2,
      "metadata": {
        "id": "A4FMNn8o0qqp"
      },
      "outputs": [],
      "source": [
        "from datetime import datetime\n",
        "import pandas as pd\n",
        "import numpy as np\n",
        "from sklearn.model_selection import train_test_split\n",
        "from sklearn.svm import LinearSVC\n",
        "from sklearn.linear_model import LogisticRegression\n",
        "from sklearn import metrics\n",
        "import seaborn as sns\n",
        "import keras\n",
        "import sklearn\n",
        "import hashlib\n",
        "import matplotlib.pyplot as plt\n",
        "import scipy.stats as stats\n",
        "from imblearn.under_sampling import RandomUnderSampler\n",
        "from imblearn.over_sampling import RandomOverSampler\n",
        "from sklearn.model_selection import cross_val_score\n",
        "from sklearn.pipeline import make_pipeline\n",
        "from sklearn.preprocessing import StandardScaler\n",
        "import tensorflow as tf\n",
        "from tensorflow.keras import Model\n",
        "from keras.layers import Input, Dense, Reshape\n",
        "# Import additional libraries of your choice"
      ],
      "id": "A4FMNn8o0qqp"
    },
    {
      "cell_type": "markdown",
      "metadata": {
        "id": "LeYfD33i0qqk"
      },
      "source": [
        "# Unity Data Science quiz\n",
        "\n",
        "At Unity, we develop deep learning models for real-time ads bidding ([OpenRTB](https://www.iab.com/guidelines/openrtb/)) at various ad\n",
        "exchanges. To bid for an ad impression, we estimate the optimal bid value using predicted\n",
        "install probability of campaign together with several other factors e.g. cost per install.\n",
        "\n",
        "In this homework, your task is to **train a model to predict *install probabilities* for ad impressions included in\n",
        "the test data**. In the production environment, the model predictions are used for deriving the optimial bids for available ad campaigns.  The best ad campaign will be shown to the user. Overestimation of install probabilities will lead to unnecessarily high bids and monetary losses, while underestimation of install probabilities will lead to unnecessarily low bids and loss of opportunities for Unity to win ad impressions. Therefore, it is important for the model predictions to be as accurate as possible.\n",
        "\n",
        "## Instructions\n",
        "\n",
        "- Complete the homework using Python and libraries of your choice.\n",
        "- Follow the instructions in this notebook.\n",
        "- Keep the code clean and organized.\n",
        "\n",
        "## Evaluation\n",
        "\n",
        "We focus our evaluation on technical proficiency, analytical skills, problem solving, creative thinking as well as ability to communicate clearly. In particular, we will evaluate:\n",
        "- understanding of the problem (e.g. does a delivered solution meet the specification of the task)\n",
        "- quality of discussion and brevity of the report (e.g. comments in this notebook)\n",
        "- quality of EDA\n",
        "- feature handling & preprocessing\n",
        "- modeling approach\n",
        "- model validation and evaluation\n",
        "\n",
        "We will separately evaluate the predicted test set install probabilities (see below). Although considered as part of the evaluation, the final performance is not the key factor and shall not dominate over the above dimensions.\n",
        "\n",
        "## Data description\n",
        "\n",
        "- ```id```: impression id\n",
        "- ```timestamp```: time of the event in UTC ```\n",
        " all installs happened  long ago this game is probably old```\n",
        "- ```campaignId```: id of the advertising campaign (the game being advertised)\n",
        "- ```platform```: device platform\n",
        "- ```softwareVersion```: OS version of the device\n",
        "- ```country```: country of user\n",
        "- ```sourceGameId```: id of the publishing game (the game being played)\n",
        "- ```startCount```: how many times the user has started (any) campaigns\n",
        "- ```viewCount```: how many times the user has viewed (any) campaigns\n",
        "- ```clickCount```: how many times the user has clicked (any) campaigns\n",
        "- ```installCount```: how many times the user has installed games from this ad network\n",
        "- ```lastStart```: last time the user started any campaign\n",
        "- ```startCount1d```: how many times the user has started (any) campaigns within the last 24 hours\n",
        "- ```startCount7d```: how many times the user has started (any) campaigns within the last 7 days\n",
        "- ```connectionType```: internet connection type\n",
        "- ```deviceType```: device model\n",
        "- ```install```: binary indicator if install was observed (install=1) or not (install=0) after impression\n",
        "\n",
        "## Submission\n",
        "\n",
        "- This Jupyter notebook\n",
        "- A CSV file containing the predicted install probabilities of ad impressions in the test data. The file should have the following columns:\n",
        "    - ```id```: ID of ad impression in the test data\n",
        "    - ```install_proba```: Predicted install probability of ad impression\n"
      ],
      "id": "LeYfD33i0qqk"
    },
    {
      "cell_type": "markdown",
      "source": [
        "# Analysis\n",
        "by Mateusz Łukasik\n",
        " - start date: 2.05\n",
        " - submitted: 6.05"
      ],
      "metadata": {
        "id": "wo8rXNYSsPZU"
      },
      "id": "wo8rXNYSsPZU"
    },
    {
      "cell_type": "markdown",
      "source": [
        "\n",
        "\n"
      ],
      "metadata": {
        "id": "Z4btb2n1jsKk"
      },
      "id": "Z4btb2n1jsKk"
    },
    {
      "cell_type": "markdown",
      "metadata": {
        "id": "6m_k3Um_0qqq"
      },
      "source": [
        "## Load and prepare data"
      ],
      "id": "6m_k3Um_0qqq"
    },
    {
      "cell_type": "code",
      "source": [
        "from google.colab import drive\n",
        "drive.mount('/content/drive')\n",
        "train_df = pd.read_csv(\"/content/drive/MyDrive/training_data.csv\", sep=\";\", parse_dates=True)\n",
        "train_df = train_df[~train_df['install'].isna()]#inputing install label is classification so there is no use in it\n",
        "train_df = train_df[~train_df['lastStart'].isna()]\n",
        "train_df['lastStart'] = pd.to_datetime(train_df['lastStart'])\n",
        "train_df = train_df.sort_values(by=['timestamp']).reset_index(drop=True)"
      ],
      "metadata": {
        "id": "Bc8BuoLlfKnr",
        "colab": {
          "base_uri": "https://localhost:8080/"
        },
        "outputId": "5369386b-257e-4e0d-af51-058ce5298d87"
      },
      "id": "Bc8BuoLlfKnr",
      "execution_count": 3,
      "outputs": [
        {
          "output_type": "stream",
          "name": "stdout",
          "text": [
            "Drive already mounted at /content/drive; to attempt to forcibly remount, call drive.mount(\"/content/drive\", force_remount=True).\n"
          ]
        }
      ]
    },
    {
      "cell_type": "code",
      "source": [
        "train_df.columns"
      ],
      "metadata": {
        "colab": {
          "base_uri": "https://localhost:8080/"
        },
        "id": "MCqggieHY_io",
        "outputId": "c554c33d-b447-4094-a2cf-fd8e07c9ff1b"
      },
      "id": "MCqggieHY_io",
      "execution_count": 4,
      "outputs": [
        {
          "output_type": "execute_result",
          "data": {
            "text/plain": [
              "Index(['id', 'timestamp', 'campaignId', 'platform', 'softwareVersion',\n",
              "       'sourceGameId', 'country', 'startCount', 'viewCount', 'clickCount',\n",
              "       'installCount', 'lastStart', 'startCount1d', 'startCount7d',\n",
              "       'connectionType', 'deviceType', 'install'],\n",
              "      dtype='object')"
            ]
          },
          "metadata": {},
          "execution_count": 4
        }
      ]
    },
    {
      "cell_type": "code",
      "source": [
        "import pandas as pd\n",
        "\n",
        "# Ensure 'timestamp' is in datetime format\n",
        "train_df['timestamp'] = pd.to_datetime(train_df['timestamp'])\n",
        "\n",
        "# Group the DataFrame by hour\n",
        "daily_groups = train_df.groupby(pd.Grouper(key='timestamp', freq='D'))\n",
        "\n",
        "# Initialize a list to hold the sub-DataFrames\n",
        "daily_dfs = []\n",
        "\n",
        "# Iterate over each group and add the sub-DataFrame to the list\n",
        "for _, group in daily_groups:\n",
        "    if not group.empty:  # Check if the group is not empty\n",
        "        daily_dfs.append(group)\n",
        "[i.shape for i in daily_dfs]"
      ],
      "metadata": {
        "id": "8CwLX3FteOUU",
        "colab": {
          "base_uri": "https://localhost:8080/"
        },
        "outputId": "3c220b76-7cab-41f9-b0fe-9f6caca445e4"
      },
      "id": "8CwLX3FteOUU",
      "execution_count": 5,
      "outputs": [
        {
          "output_type": "execute_result",
          "data": {
            "text/plain": [
              "[(315482, 17),\n",
              " (313690, 17),\n",
              " (306825, 17),\n",
              " (281678, 17),\n",
              " (232467, 17),\n",
              " (225278, 17),\n",
              " (189106, 17),\n",
              " (201060, 17),\n",
              " (214095, 17),\n",
              " (211327, 17),\n",
              " (223277, 17),\n",
              " (257102, 17),\n",
              " (272655, 17),\n",
              " (219667, 17)]"
            ]
          },
          "metadata": {},
          "execution_count": 5
        }
      ]
    },
    {
      "cell_type": "code",
      "source": [
        "import pandas as pd\n",
        "import numpy as np\n",
        "import tensorflow as tf\n",
        "from sklearn.model_selection import train_test_split\n",
        "from sklearn.preprocessing import StandardScaler\n",
        "import pandas as pd\n",
        "import numpy as np\n",
        "from sklearn.preprocessing import StandardScaler\n",
        "\n",
        "import pandas as pd\n",
        "from sklearn.utils import resample\n",
        "\n",
        "class DataPreprocessor:\n",
        "    def __init__(self, numerical_columns, target_column):\n",
        "        \"\"\"\n",
        "        Initialize the preprocessor with the list of numerical columns\n",
        "        to keep and convert to floats, and the name of the target column for undersampling.\n",
        "        \"\"\"\n",
        "        self.numerical_columns = numerical_columns\n",
        "        self.target_column = target_column\n",
        "\n",
        "    def preprocess_(self,df):\n",
        "        # Ensure the target column is included for processing\n",
        "        if self.target_column in df.columns:\n",
        "            columns = self.numerical_columns + [self.target_column]\n",
        "        else:\n",
        "            columns = self.numerical_columns\n",
        "\n",
        "        processed_df = df[columns].copy()\n",
        "\n",
        "        # Convert numerical columns to float dtype\n",
        "        for col in self.numerical_columns:\n",
        "            processed_df[col] = pd.to_numeric(processed_df[col], errors='coerce').astype(float)\n",
        "        return processed_df\n",
        "\n",
        "    def preprocess_train(self, df):\n",
        "        self.processed_df = self.preprocess_(df)\n",
        "\n",
        "        # Calculate label counts to determine majority/minority\n",
        "        label_counts = self.processed_df[self.target_column].value_counts()\n",
        "        # Identify majority and minority labels based on counts\n",
        "        majority_label = label_counts.idxmax()\n",
        "        minority_label = label_counts.idxmin()\n",
        "\n",
        "        # Separate majority and minority classes\n",
        "        self.df_majority = self.processed_df[self.processed_df[self.target_column] == majority_label]\n",
        "        self.df_minority = self.processed_df[self.processed_df[self.target_column] == minority_label]\n",
        "\n",
        "        # Calculate the length ratio for informational purposes (optional)\n",
        "        self.len_ratio = len(self.df_majority) / (len(self.df_majority) + len(self.df_minority))\n",
        "\n",
        "        # Downsample the majority class to match minority class size\n",
        "        df_majority_downsampled = resample(self.df_majority,\n",
        "                                          replace=False,    # sample without replacement\n",
        "                                          n_samples=len(self.df_minority),  # to match minority class size\n",
        "                                          random_state=123) # reproducible results\n",
        "\n",
        "        # Combine minority class with downsampled majority class\n",
        "        self.balanced_df = pd.concat([self.df_minority, df_majority_downsampled])\n",
        "\n",
        "        # Optionally, you might want to return the balanced DataFrame\n",
        "        return self.balanced_df\n",
        "\n",
        "class ConversionModel:\n",
        "\n",
        "    def __init__(self, input_shape):\n",
        "        self.model = self._build_model(input_shape)\n",
        "        self.target_column = 'install'\n",
        "\n",
        "    def _build_model(self, input_shape):\n",
        "        # Define a simple Sequential model\n",
        "        model = tf.keras.Sequential([\n",
        "            tf.keras.layers.Dense(64, activation='relu', input_shape=(input_shape,)),\n",
        "            keras.layers.Dropout(0.1),\n",
        "            tf.keras.layers.Dense(64, activation='relu'),\n",
        "            keras.layers.Dropout(0.1),\n",
        "            tf.keras.layers.Dense(1, activation='sigmoid')  # Assuming binary classification\n",
        "        ])\n",
        "        model.compile(optimizer='adam', loss='binary_crossentropy', metrics=['accuracy'])\n",
        "        return model\n",
        "\n",
        "    def fit(self, X, y, epochs=30, validation_split=0.2):\n",
        "        self.model.fit(X, y, epochs=epochs, validation_split=validation_split)\n",
        "\n",
        "    def predict(self, X):\n",
        "        return self.model.predict(X)\n",
        "\n",
        "class OODModel:\n",
        "\n",
        "    def __init__(self, input_shape):\n",
        "        self.model = self._build_model(input_shape)\n",
        "        self.target_column = 'OOD'\n",
        "\n",
        "    def _build_model(self, input_shape):\n",
        "        # Define a simple Sequential model\n",
        "        model = tf.keras.Sequential([\n",
        "            tf.keras.layers.Dense(64, activation='relu', input_shape=(input_shape,)),\n",
        "            keras.layers.Dropout(0.1),\n",
        "            tf.keras.layers.Dense(64, activation='relu'),\n",
        "            keras.layers.Dropout(0.1),\n",
        "            tf.keras.layers.Dense(1, activation='sigmoid')  # Assuming binary classification\n",
        "        ])\n",
        "        model.compile(optimizer='adam', loss='binary_crossentropy', metrics=['accuracy'])\n",
        "        return model\n",
        "\n",
        "    def fit(self, X, y, epochs=30, validation_split=0.2):\n",
        "        self.model.fit(X, y, epochs=epochs, validation_split=validation_split)\n",
        "\n",
        "    def predict(self, X):\n",
        "        return self.model.predict(X)\n",
        "\n",
        "class Postprocessor:\n",
        "    def __init__(self, model, adjusted_threshold):\n",
        "        self.model = model\n",
        "        self.adjusted_threshold = adjusted_threshold\n",
        "        print(self.adjusted_threshold)\n",
        "    def predict(self, X):\n",
        "        # Get the model's prediction probabilities\n",
        "        predictions = self.model.predict(X)\n",
        "\n",
        "        # Apply the adjusted threshold to these probabilities to get binary predictions\n",
        "        binary_predictions = (predictions > self.adjusted_threshold*0.8).astype(int)\n",
        "        return binary_predictions\n",
        "\n",
        "class Valuator:\n",
        "  def __init__(self,preprocessor,model,postprocessor,adjusted_threshold):\n",
        "    #TODO: implement adjusted_threshold here\n",
        "    self.preprocessor=preprocessor\n",
        "    self.model = model\n",
        "    self.postprocessor = postprocessor\n",
        "  def predict(self, data):\n",
        "      preprocessed_data = self.preprocessor.preprocess_(data)\n",
        "      # Drop the target_column only if it exists in the DataFrame\n",
        "      if self.model.target_column in preprocessed_data.columns:\n",
        "          preprocessed_data = preprocessed_data.drop(columns=[self.model.target_column])\n",
        "      return self.postprocessor.predict(preprocessed_data)\n",
        "\n",
        "  def prob(self, data):\n",
        "      preprocessed_data = self.preprocessor.preprocess_(data)\n",
        "      # Drop the target_column only if it exists in the DataFrame\n",
        "      if self.model.target_column in preprocessed_data.columns:\n",
        "          preprocessed_data = preprocessed_data.drop(columns=[self.model.target_column])\n",
        "      return self.postprocessor.model.predict(preprocessed_data)\n"
      ],
      "metadata": {
        "id": "0WqndU3dN48v"
      },
      "id": "0WqndU3dN48v",
      "execution_count": 6,
      "outputs": []
    },
    {
      "cell_type": "code",
      "source": [
        "from sklearn.metrics import accuracy_score, precision_score, recall_score, f1_score, roc_auc_score\n",
        "numerical_columns = ['startCount', 'viewCount', 'clickCount', 'installCount', 'startCount1d', 'startCount7d']\n",
        "\n",
        "def given_data_create_valuator(daily_df):\n",
        "  target_column = 'install'  # Assuming 'install' is your target column\n",
        "\n",
        "  # Initialize the preprocessor\n",
        "  preprocessor = DataPreprocessor(numerical_columns=numerical_columns, target_column=target_column)\n",
        "  preprocessor.preprocess_train(daily_df)\n",
        "  # Preprocess your DataFrame\n",
        "  X = preprocessor.balanced_df.drop(columns=[target_column])\n",
        "  y = preprocessor.balanced_df[target_column]\n",
        "  # Convert the target to a numeric type, if it's not already\n",
        "  y = pd.to_numeric(y, errors='coerce')\n",
        "  input_shape = X.shape[1]\n",
        "  # Initialize and train the model\n",
        "  my_model = ConversionModel(input_shape)\n",
        "  my_model.fit(X, y)\n",
        "  postprocessor = Postprocessor(my_model,preprocessor.len_ratio)\n",
        "  return Valuator(preprocessor,my_model,postprocessor,preprocessor.len_ratio)\n",
        "\n",
        "\n",
        "def from_valuator_create_ood(which_data_aquired, new_valuator_data, old_training_data, old_unseen_data):\n",
        "  target_column = 'OOD'\n",
        "\n",
        "  if not isinstance(old_unseen_data, pd.DataFrame) or old_unseen_data.empty:\n",
        "      old_unseen_data = pd.DataFrame(columns=new_valuator_data.columns)\n",
        "\n",
        "  new_train_data = pd.concat([old_training_data, new_valuator_data[which_data_aquired.astype(bool)]])\n",
        "  new_unseen_data = pd.concat([old_unseen_data, new_valuator_data[~which_data_aquired.astype(bool)]])\n",
        "  print(f\"new_train_data.shape: {new_train_data.shape},new_unseen_data.shape: {new_unseen_data.shape}\")\n",
        "  unseen_data_ = new_unseen_data.drop(columns=['install'])\n",
        "  train_data_ = new_train_data.drop(columns=['install'])\n",
        "\n",
        "  # Add OOD column\n",
        "  unseen_data_['OOD'] = 0\n",
        "  train_data_['OOD'] = 1\n",
        "\n",
        "  ood_train_data = pd.concat([train_data_, unseen_data_], ignore_index=True)\n",
        "\n",
        "  preprocessor_OOD = DataPreprocessor(numerical_columns=numerical_columns, target_column=target_column)\n",
        "  preprocessor_OOD.preprocess_train(ood_train_data)\n",
        "\n",
        "  # Preprocess your DataFrame\n",
        "  X = preprocessor_OOD.balanced_df.drop(columns=[target_column])\n",
        "  y = preprocessor_OOD.balanced_df[target_column]\n",
        "\n",
        "  # Convert the target to a numeric type, if it's not already\n",
        "  y = pd.to_numeric(y, errors='coerce')\n",
        "  input_shape = X.shape[1]\n",
        "\n",
        "  # Initialize and train the model\n",
        "  OOD_model = OODModel(input_shape)\n",
        "  OOD_model.fit(X, y)\n",
        "  postprocessor_OOD = Postprocessor(OOD_model,preprocessor_OOD.len_ratio)\n",
        "\n",
        "  return Valuator(preprocessor_OOD,OOD_model,postprocessor_OOD,preprocessor_OOD.len_ratio), new_train_data, new_unseen_data"
      ],
      "metadata": {
        "id": "43Y6yWSXh6MB"
      },
      "id": "43Y6yWSXh6MB",
      "execution_count": 7,
      "outputs": []
    },
    {
      "cell_type": "code",
      "source": [
        "TRAIN_DATA = daily_dfs[0]\n",
        "TRAFFIC_DATA = daily_dfs[1]\n",
        "valuator = given_data_create_valuator(TRAIN_DATA)\n",
        "aquired_data = valuator.predict(TRAFFIC_DATA).flatten()\n",
        "UNSEEN_DATA = pd.DataFrame()"
      ],
      "metadata": {
        "colab": {
          "base_uri": "https://localhost:8080/"
        },
        "id": "1nbC57nnoeD3",
        "outputId": "3c75b58e-6dec-4160-84d0-ce1dbee80932"
      },
      "id": "1nbC57nnoeD3",
      "execution_count": 8,
      "outputs": [
        {
          "output_type": "stream",
          "name": "stdout",
          "text": [
            "Epoch 1/30\n",
            "174/174 [==============================] - 2s 4ms/step - loss: 1.4190 - accuracy: 0.5666 - val_loss: 0.6526 - val_accuracy: 0.4466\n",
            "Epoch 2/30\n",
            "174/174 [==============================] - 0s 3ms/step - loss: 0.9193 - accuracy: 0.6152 - val_loss: 0.7262 - val_accuracy: 0.3463\n",
            "Epoch 3/30\n",
            "174/174 [==============================] - 1s 3ms/step - loss: 0.7563 - accuracy: 0.6292 - val_loss: 0.9198 - val_accuracy: 0.1616\n",
            "Epoch 4/30\n",
            "174/174 [==============================] - 0s 3ms/step - loss: 0.6960 - accuracy: 0.6419 - val_loss: 0.9500 - val_accuracy: 0.1515\n",
            "Epoch 5/30\n",
            "174/174 [==============================] - 0s 3ms/step - loss: 0.6643 - accuracy: 0.6495 - val_loss: 0.8234 - val_accuracy: 0.2417\n",
            "Epoch 6/30\n",
            "174/174 [==============================] - 1s 3ms/step - loss: 0.6556 - accuracy: 0.6446 - val_loss: 0.7516 - val_accuracy: 0.3521\n",
            "Epoch 7/30\n",
            "174/174 [==============================] - 1s 3ms/step - loss: 0.6451 - accuracy: 0.6542 - val_loss: 0.8585 - val_accuracy: 0.2302\n",
            "Epoch 8/30\n",
            "174/174 [==============================] - 0s 3ms/step - loss: 0.6413 - accuracy: 0.6540 - val_loss: 0.8940 - val_accuracy: 0.1782\n",
            "Epoch 9/30\n",
            "174/174 [==============================] - 1s 5ms/step - loss: 0.6384 - accuracy: 0.6558 - val_loss: 0.9172 - val_accuracy: 0.1544\n",
            "Epoch 10/30\n",
            "174/174 [==============================] - 1s 5ms/step - loss: 0.6384 - accuracy: 0.6536 - val_loss: 0.8212 - val_accuracy: 0.2857\n",
            "Epoch 11/30\n",
            "174/174 [==============================] - 1s 4ms/step - loss: 0.6360 - accuracy: 0.6556 - val_loss: 0.9459 - val_accuracy: 0.0779\n",
            "Epoch 12/30\n",
            "174/174 [==============================] - 1s 4ms/step - loss: 0.6332 - accuracy: 0.6556 - val_loss: 0.9465 - val_accuracy: 0.1414\n",
            "Epoch 13/30\n",
            "174/174 [==============================] - 1s 5ms/step - loss: 0.6347 - accuracy: 0.6478 - val_loss: 0.9164 - val_accuracy: 0.1732\n",
            "Epoch 14/30\n",
            "174/174 [==============================] - 1s 5ms/step - loss: 0.6241 - accuracy: 0.6561 - val_loss: 0.9314 - val_accuracy: 0.1436\n",
            "Epoch 15/30\n",
            "174/174 [==============================] - 1s 6ms/step - loss: 0.6263 - accuracy: 0.6590 - val_loss: 0.9290 - val_accuracy: 0.1681\n",
            "Epoch 16/30\n",
            "174/174 [==============================] - 1s 3ms/step - loss: 0.6287 - accuracy: 0.6522 - val_loss: 0.8734 - val_accuracy: 0.2078\n",
            "Epoch 17/30\n",
            "174/174 [==============================] - 0s 3ms/step - loss: 0.6294 - accuracy: 0.6514 - val_loss: 0.8810 - val_accuracy: 0.2128\n",
            "Epoch 18/30\n",
            "174/174 [==============================] - 0s 3ms/step - loss: 0.6232 - accuracy: 0.6579 - val_loss: 0.8827 - val_accuracy: 0.2020\n",
            "Epoch 19/30\n",
            "174/174 [==============================] - 1s 3ms/step - loss: 0.6254 - accuracy: 0.6574 - val_loss: 0.9675 - val_accuracy: 0.1291\n",
            "Epoch 20/30\n",
            "174/174 [==============================] - 0s 3ms/step - loss: 0.6214 - accuracy: 0.6608 - val_loss: 0.9399 - val_accuracy: 0.1638\n",
            "Epoch 21/30\n",
            "174/174 [==============================] - 0s 3ms/step - loss: 0.6217 - accuracy: 0.6634 - val_loss: 0.8804 - val_accuracy: 0.2071\n",
            "Epoch 22/30\n",
            "174/174 [==============================] - 1s 3ms/step - loss: 0.6199 - accuracy: 0.6621 - val_loss: 0.8987 - val_accuracy: 0.2229\n",
            "Epoch 23/30\n",
            "174/174 [==============================] - 0s 3ms/step - loss: 0.6192 - accuracy: 0.6657 - val_loss: 0.8815 - val_accuracy: 0.2114\n",
            "Epoch 24/30\n",
            "174/174 [==============================] - 0s 3ms/step - loss: 0.6187 - accuracy: 0.6650 - val_loss: 0.9825 - val_accuracy: 0.1263\n",
            "Epoch 25/30\n",
            "174/174 [==============================] - 0s 3ms/step - loss: 0.6175 - accuracy: 0.6637 - val_loss: 0.9125 - val_accuracy: 0.1833\n",
            "Epoch 26/30\n",
            "174/174 [==============================] - 0s 3ms/step - loss: 0.6180 - accuracy: 0.6641 - val_loss: 1.0192 - val_accuracy: 0.1205\n",
            "Epoch 27/30\n",
            "174/174 [==============================] - 1s 3ms/step - loss: 0.6185 - accuracy: 0.6608 - val_loss: 1.0139 - val_accuracy: 0.1320\n",
            "Epoch 28/30\n",
            "174/174 [==============================] - 0s 3ms/step - loss: 0.6127 - accuracy: 0.6684 - val_loss: 0.9677 - val_accuracy: 0.1811\n",
            "Epoch 29/30\n",
            "174/174 [==============================] - 0s 3ms/step - loss: 0.6152 - accuracy: 0.6639 - val_loss: 0.9161 - val_accuracy: 0.1854\n",
            "Epoch 30/30\n",
            "174/174 [==============================] - 0s 3ms/step - loss: 0.6153 - accuracy: 0.6682 - val_loss: 0.8955 - val_accuracy: 0.2280\n",
            "0.9890231455360369\n",
            "9803/9803 [==============================] - 16s 2ms/step\n"
          ]
        }
      ]
    },
    {
      "cell_type": "code",
      "source": [
        "valuator_ood, TRAIN_DATA, UNSEEN_DATA = from_valuator_create_ood(aquired_data,TRAFFIC_DATA, TRAIN_DATA, UNSEEN_DATA )"
      ],
      "metadata": {
        "colab": {
          "base_uri": "https://localhost:8080/"
        },
        "id": "HAp38GKeJeWE",
        "outputId": "918b5e37-4c1f-4f6d-d436-92b3304cd721"
      },
      "id": "HAp38GKeJeWE",
      "execution_count": 9,
      "outputs": [
        {
          "output_type": "stream",
          "name": "stdout",
          "text": [
            "new_train_data.shape: (328224, 17),new_unseen_data.shape: (300948, 17)\n",
            "Epoch 1/30\n",
            "15048/15048 [==============================] - 47s 3ms/step - loss: 0.6759 - accuracy: 0.6372 - val_loss: 0.9357 - val_accuracy: 0.1050\n",
            "Epoch 2/30\n",
            "15048/15048 [==============================] - 44s 3ms/step - loss: 0.6431 - accuracy: 0.6468 - val_loss: 0.9674 - val_accuracy: 0.0816\n",
            "Epoch 3/30\n",
            "15048/15048 [==============================] - 44s 3ms/step - loss: 0.6417 - accuracy: 0.6475 - val_loss: 0.9478 - val_accuracy: 0.0886\n",
            "Epoch 4/30\n",
            "15048/15048 [==============================] - 46s 3ms/step - loss: 0.6410 - accuracy: 0.6482 - val_loss: 0.9683 - val_accuracy: 0.0718\n",
            "Epoch 5/30\n",
            "15048/15048 [==============================] - 52s 3ms/step - loss: 0.6405 - accuracy: 0.6484 - val_loss: 0.9382 - val_accuracy: 0.0877\n",
            "Epoch 6/30\n",
            "15048/15048 [==============================] - 46s 3ms/step - loss: 0.6401 - accuracy: 0.6487 - val_loss: 0.9545 - val_accuracy: 0.0754\n",
            "Epoch 7/30\n",
            "15048/15048 [==============================] - 51s 3ms/step - loss: 0.6399 - accuracy: 0.6489 - val_loss: 0.9615 - val_accuracy: 0.0739\n",
            "Epoch 8/30\n",
            "15048/15048 [==============================] - 44s 3ms/step - loss: 0.6395 - accuracy: 0.6491 - val_loss: 0.9441 - val_accuracy: 0.0786\n",
            "Epoch 9/30\n",
            "15048/15048 [==============================] - 52s 3ms/step - loss: 0.6395 - accuracy: 0.6492 - val_loss: 0.9295 - val_accuracy: 0.0868\n",
            "Epoch 10/30\n",
            "15048/15048 [==============================] - 44s 3ms/step - loss: 0.6393 - accuracy: 0.6495 - val_loss: 0.9539 - val_accuracy: 0.0843\n",
            "Epoch 11/30\n",
            "15048/15048 [==============================] - 44s 3ms/step - loss: 0.6394 - accuracy: 0.6493 - val_loss: 0.9522 - val_accuracy: 0.0751\n",
            "Epoch 12/30\n",
            "15048/15048 [==============================] - 45s 3ms/step - loss: 0.6391 - accuracy: 0.6494 - val_loss: 0.9631 - val_accuracy: 0.0762\n",
            "Epoch 13/30\n",
            "15048/15048 [==============================] - 45s 3ms/step - loss: 0.6389 - accuracy: 0.6495 - val_loss: 0.9553 - val_accuracy: 0.0840\n",
            "Epoch 14/30\n",
            "15048/15048 [==============================] - 42s 3ms/step - loss: 0.6390 - accuracy: 0.6499 - val_loss: 0.9697 - val_accuracy: 0.0705\n",
            "Epoch 15/30\n",
            "15048/15048 [==============================] - 49s 3ms/step - loss: 0.6388 - accuracy: 0.6498 - val_loss: 0.9439 - val_accuracy: 0.0816\n",
            "Epoch 16/30\n",
            "15048/15048 [==============================] - 42s 3ms/step - loss: 0.6390 - accuracy: 0.6496 - val_loss: 0.9493 - val_accuracy: 0.0798\n",
            "Epoch 17/30\n",
            "15048/15048 [==============================] - 42s 3ms/step - loss: 0.6387 - accuracy: 0.6498 - val_loss: 0.9600 - val_accuracy: 0.0784\n",
            "Epoch 18/30\n",
            "15048/15048 [==============================] - 42s 3ms/step - loss: 0.6387 - accuracy: 0.6498 - val_loss: 0.9568 - val_accuracy: 0.0795\n",
            "Epoch 19/30\n",
            "15048/15048 [==============================] - 42s 3ms/step - loss: 0.6387 - accuracy: 0.6498 - val_loss: 0.9601 - val_accuracy: 0.0791\n",
            "Epoch 20/30\n",
            "15048/15048 [==============================] - 43s 3ms/step - loss: 0.6386 - accuracy: 0.6499 - val_loss: 0.9569 - val_accuracy: 0.0779\n",
            "Epoch 21/30\n",
            "15048/15048 [==============================] - 43s 3ms/step - loss: 0.6384 - accuracy: 0.6499 - val_loss: 0.9453 - val_accuracy: 0.0702\n",
            "Epoch 22/30\n",
            "15048/15048 [==============================] - 50s 3ms/step - loss: 0.6386 - accuracy: 0.6499 - val_loss: 0.9701 - val_accuracy: 0.0783\n",
            "Epoch 23/30\n",
            "15048/15048 [==============================] - 49s 3ms/step - loss: 0.6384 - accuracy: 0.6500 - val_loss: 0.9567 - val_accuracy: 0.0738\n",
            "Epoch 24/30\n",
            "15048/15048 [==============================] - 43s 3ms/step - loss: 0.6383 - accuracy: 0.6501 - val_loss: 0.9624 - val_accuracy: 0.0761\n",
            "Epoch 25/30\n",
            "15048/15048 [==============================] - 43s 3ms/step - loss: 0.6385 - accuracy: 0.6500 - val_loss: 0.9419 - val_accuracy: 0.0755\n",
            "Epoch 26/30\n",
            "15048/15048 [==============================] - 42s 3ms/step - loss: 0.6383 - accuracy: 0.6500 - val_loss: 0.9619 - val_accuracy: 0.0713\n",
            "Epoch 27/30\n",
            "15048/15048 [==============================] - 43s 3ms/step - loss: 0.6382 - accuracy: 0.6502 - val_loss: 0.9557 - val_accuracy: 0.0737\n",
            "Epoch 28/30\n",
            "15048/15048 [==============================] - 43s 3ms/step - loss: 0.6385 - accuracy: 0.6500 - val_loss: 0.9414 - val_accuracy: 0.0820\n",
            "Epoch 29/30\n",
            "15048/15048 [==============================] - 43s 3ms/step - loss: 0.6384 - accuracy: 0.6502 - val_loss: 0.9665 - val_accuracy: 0.0788\n",
            "Epoch 30/30\n",
            "15048/15048 [==============================] - 51s 3ms/step - loss: 0.6382 - accuracy: 0.6501 - val_loss: 0.9610 - val_accuracy: 0.0768\n",
            "0.5216761076462398\n"
          ]
        }
      ]
    },
    {
      "cell_type": "code",
      "source": [
        "TRAFFIC_DATA = daily_dfs[2]\n",
        "val_probs = valuator.prob(TRAFFIC_DATA)"
      ],
      "metadata": {
        "colab": {
          "base_uri": "https://localhost:8080/"
        },
        "id": "LluFlrzgNMUM",
        "outputId": "bd661c11-9275-4834-bac8-4317430067b2"
      },
      "id": "LluFlrzgNMUM",
      "execution_count": 10,
      "outputs": [
        {
          "output_type": "stream",
          "name": "stdout",
          "text": [
            "9589/9589 [==============================] - 15s 2ms/step\n"
          ]
        }
      ]
    },
    {
      "cell_type": "code",
      "source": [
        "ood_probs = valuator_ood.prob(TRAFFIC_DATA)"
      ],
      "metadata": {
        "colab": {
          "base_uri": "https://localhost:8080/"
        },
        "id": "axOXz7XuSV0N",
        "outputId": "2e597f75-53ab-49dc-e0fd-2d3e692121ec"
      },
      "id": "axOXz7XuSV0N",
      "execution_count": 11,
      "outputs": [
        {
          "output_type": "stream",
          "name": "stdout",
          "text": [
            "9589/9589 [==============================] - 16s 2ms/step\n"
          ]
        }
      ]
    },
    {
      "cell_type": "code",
      "source": [
        "val_probs,ood_probs"
      ],
      "metadata": {
        "id": "5V48iJmmbVFO",
        "colab": {
          "base_uri": "https://localhost:8080/"
        },
        "outputId": "a3fdb74b-0293-40c7-a3d9-5ffc23b5e353"
      },
      "id": "5V48iJmmbVFO",
      "execution_count": 12,
      "outputs": [
        {
          "output_type": "execute_result",
          "data": {
            "text/plain": [
              "(array([[0.6702102 ],\n",
              "        [0.61765295],\n",
              "        [0.40958318],\n",
              "        ...,\n",
              "        [0.6441318 ],\n",
              "        [0.5411248 ],\n",
              "        [0.521351  ]], dtype=float32),\n",
              " array([[0.35277125],\n",
              "        [0.3573948 ],\n",
              "        [0.35277125],\n",
              "        ...,\n",
              "        [0.35277125],\n",
              "        [0.35277125],\n",
              "        [0.35277125]], dtype=float32))"
            ]
          },
          "metadata": {},
          "execution_count": 12
        }
      ]
    },
    {
      "cell_type": "code",
      "source": [
        "np.array(TRAFFIC_DATA['install'].values)"
      ],
      "metadata": {
        "colab": {
          "base_uri": "https://localhost:8080/"
        },
        "id": "upqBwK-XXJe5",
        "outputId": "1809e5f2-1e21-456d-9069-c55d9786971d"
      },
      "id": "upqBwK-XXJe5",
      "execution_count": 13,
      "outputs": [
        {
          "output_type": "execute_result",
          "data": {
            "text/plain": [
              "array([0, 0, 0, ..., 0, 0, 0])"
            ]
          },
          "metadata": {},
          "execution_count": 13
        }
      ]
    },
    {
      "cell_type": "code",
      "source": [
        "\n",
        "\n",
        "hb = plt.hexbin(val_probs.flatten(), ood_probs.flatten(), C=TRAFFIC_DATA['install'].values, gridsize=50, cmap='RdYlBu', reduce_C_function=np.mean)\n",
        "cb = plt.colorbar(hb, label='Ratio of 1s')\n",
        "cb.set_label('Average True Label (Ratio of 1s)')\n",
        "plt.xlabel('Probability Given by Model')\n",
        "plt.ylabel('Probability Seen in Training')\n",
        "plt.title('2D Scatter Plot Grouped by Small Regions')\n",
        "plt.grid(True, which='both', linestyle='--', linewidth=0.5)\n",
        "\n",
        "# Adding an extra colorbar to represent the count in each hexbin\n",
        "plt.colorbar(hb, label='Count in Bin')\n",
        "\n",
        "plt.show()"
      ],
      "metadata": {
        "colab": {
          "base_uri": "https://localhost:8080/",
          "height": 472
        },
        "id": "a_b5i-w9KRJU",
        "outputId": "3ae85c36-a83f-43e2-96c8-26f053345134"
      },
      "id": "a_b5i-w9KRJU",
      "execution_count": 14,
      "outputs": [
        {
          "output_type": "display_data",
          "data": {
            "text/plain": [
              "<Figure size 640x480 with 3 Axes>"
            ],
            "image/png": "[encoded data removed]"
          },
          "metadata": {}
        }
      ]
    },
    {
      "cell_type": "code",
      "source": [
        "class BigValuator:\n",
        "  def __init__(self,valuator,valuator_ood):\n",
        "    self.valuator = valuator\n",
        "    self.valuator_ood = valuator_ood\n",
        "\n",
        "  def predict(self,data):\n",
        "    self.result = self.valuator.prob(data).flatten()\n",
        "    self.ood_result = self.valuator_ood.prob(data).flatten()\n",
        "    self.primary_predictions = self.valuator.predict(data)\n",
        "    condition_met_indices = (self.result > 0.6) & (self.ood_result < stats.mode(self.ood_result).mode)\n",
        "    overwrite_indices = condition_met_indices & (self.primary_predictions == 0)\n",
        "    return self.result\n",
        "\n",
        "bigval = BigValuator(valuator,valuator_ood)"
      ],
      "metadata": {
        "id": "d47qKfaWMOdv"
      },
      "id": "d47qKfaWMOdv",
      "execution_count": 20,
      "outputs": []
    },
    {
      "cell_type": "code",
      "source": [
        "bigval.predict(TRAFFIC_DATA)"
      ],
      "metadata": {
        "colab": {
          "base_uri": "https://localhost:8080/"
        },
        "id": "jKF8oPbVMrQh",
        "outputId": "f96a52a9-2ef9-4b1b-868b-c1f8adbcf9f7"
      },
      "id": "jKF8oPbVMrQh",
      "execution_count": 21,
      "outputs": [
        {
          "output_type": "stream",
          "name": "stdout",
          "text": [
            "9589/9589 [==============================] - 16s 2ms/step\n",
            "9589/9589 [==============================] - 15s 2ms/step\n",
            "9589/9589 [==============================] - 15s 2ms/step\n"
          ]
        },
        {
          "output_type": "execute_result",
          "data": {
            "text/plain": [
              "array([0.6702102 , 0.61765295, 0.40958318, ..., 0.6441318 , 0.5411248 ,\n",
              "       0.521351  ], dtype=float32)"
            ]
          },
          "metadata": {},
          "execution_count": 21
        }
      ]
    },
    {
      "cell_type": "code",
      "source": [
        "from scipy import stats\n",
        "print(sum(bigval.primary_predictions)/len(bigval.primary_predictions))\n",
        "condition_met_indices = (bigval.result > 0.6) & (bigval.ood_result < stats.mode(bigval.ood_result).mode)\n",
        "overwrite_indices = condition_met_indices & (bigval.primary_predictions == 0)\n",
        "bigval.primary_predictions[overwrite_indices] = 1\n",
        "print(sum(bigval.primary_predictions)/len(bigval.primary_predictions))"
      ],
      "metadata": {
        "colab": {
          "base_uri": "https://localhost:8080/"
        },
        "id": "5rGQiGBeM8sB",
        "outputId": "29210cb1-2610-4a53-bc8d-3627ef819bc8"
      },
      "id": "5rGQiGBeM8sB",
      "execution_count": null,
      "outputs": [
        {
          "output_type": "stream",
          "name": "stdout",
          "text": [
            "[0.0402314]\n"
          ]
        }
      ]
    },
    {
      "cell_type": "code",
      "source": [],
      "metadata": {
        "id": "SeFajj6jQiiz"
      },
      "id": "SeFajj6jQiiz",
      "execution_count": null,
      "outputs": []
    }
  ],
  "metadata": {
    "colab": {
      "provenance": [],
      "gpuType": "T4",
      "include_colab_link": true
    },
    "kernelspec": {
      "display_name": "Python 3",
      "name": "python3"
    },
    "language_info": {
      "codemirror_mode": {
        "name": "ipython",
        "version": 3
      },
      "file_extension": ".py",
      "mimetype": "text/x-python",
      "name": "python",
      "nbconvert_exporter": "python",
      "pygments_lexer": "ipython3",
      "version": "3.8.3"
    },
    "metadata": {
      "interpreter": {
        "hash": "15c3220e82aafb8408901b964fa2a57de26e04db32fe34c7748a0f76eb189db1"
      }
    }
  },
  "nbformat": 4,
  "nbformat_minor": 5
}