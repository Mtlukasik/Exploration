{
  "cells": [
    {
      "cell_type": "markdown",
      "metadata": {
        "id": "view-in-github",
        "colab_type": "text"
      },
      "source": [
        "<a href=\"https://colab.research.google.com/github/Mtlukasik/Exploration/blob/main/Exploration_process.ipynb\" target=\"_parent\"><img src=\"https://colab.research.google.com/assets/colab-badge.svg\" alt=\"Open In Colab\"/></a>"
      ]
    },
    {
      "cell_type": "markdown",
      "metadata": {
        "id": "TigNdgTD0qqo"
      },
      "source": [
        "## Import libraries\n",
        "\n",
        "- Import additional libraries of your choice.\n",
        "\n",
        "Although you are expected to demonstrate understanding of ML/DS/statistics tools, a particular choice of libraries and frameworks will not affect evaluation of the solution."
      ],
      "id": "TigNdgTD0qqo"
    },
    {
      "cell_type": "code",
      "execution_count": 1,
      "metadata": {
        "id": "A4FMNn8o0qqp"
      },
      "outputs": [],
      "source": [
        "from datetime import datetime\n",
        "import pandas as pd\n",
        "import numpy as np\n",
        "from sklearn.model_selection import train_test_split\n",
        "from sklearn.svm import LinearSVC\n",
        "from sklearn.linear_model import LogisticRegression\n",
        "from sklearn import metrics\n",
        "import seaborn as sns\n",
        "import keras\n",
        "import sklearn\n",
        "import hashlib\n",
        "import matplotlib.pyplot as plt\n",
        "import scipy.stats as stats\n",
        "from imblearn.under_sampling import RandomUnderSampler\n",
        "from imblearn.over_sampling import RandomOverSampler\n",
        "from sklearn.model_selection import cross_val_score\n",
        "from sklearn.pipeline import make_pipeline\n",
        "from sklearn.preprocessing import StandardScaler\n",
        "import tensorflow as tf\n",
        "from tensorflow.keras import Model\n",
        "from keras.layers import Input, Dense, Reshape\n",
        "# Import additional libraries of your choice"
      ],
      "id": "A4FMNn8o0qqp"
    },
    {
      "cell_type": "markdown",
      "metadata": {
        "id": "LeYfD33i0qqk"
      },
      "source": [
        "# Unity Data Science quiz\n",
        "\n",
        "At Unity, we develop deep learning models for real-time ads bidding ([OpenRTB](https://www.iab.com/guidelines/openrtb/)) at various ad\n",
        "exchanges. To bid for an ad impression, we estimate the optimal bid value using predicted\n",
        "install probability of campaign together with several other factors e.g. cost per install.\n",
        "\n",
        "In this homework, your task is to **train a model to predict *install probabilities* for ad impressions included in\n",
        "the test data**. In the production environment, the model predictions are used for deriving the optimial bids for available ad campaigns.  The best ad campaign will be shown to the user. Overestimation of install probabilities will lead to unnecessarily high bids and monetary losses, while underestimation of install probabilities will lead to unnecessarily low bids and loss of opportunities for Unity to win ad impressions. Therefore, it is important for the model predictions to be as accurate as possible.\n",
        "\n",
        "## Instructions\n",
        "\n",
        "- Complete the homework using Python and libraries of your choice.\n",
        "- Follow the instructions in this notebook.\n",
        "- Keep the code clean and organized.\n",
        "\n",
        "## Evaluation\n",
        "\n",
        "We focus our evaluation on technical proficiency, analytical skills, problem solving, creative thinking as well as ability to communicate clearly. In particular, we will evaluate:\n",
        "- understanding of the problem (e.g. does a delivered solution meet the specification of the task)\n",
        "- quality of discussion and brevity of the report (e.g. comments in this notebook)\n",
        "- quality of EDA\n",
        "- feature handling & preprocessing\n",
        "- modeling approach\n",
        "- model validation and evaluation\n",
        "\n",
        "We will separately evaluate the predicted test set install probabilities (see below). Although considered as part of the evaluation, the final performance is not the key factor and shall not dominate over the above dimensions.\n",
        "\n",
        "## Data description\n",
        "\n",
        "- ```id```: impression id\n",
        "- ```timestamp```: time of the event in UTC ```\n",
        " all installs happened  long ago this game is probably old```\n",
        "- ```campaignId```: id of the advertising campaign (the game being advertised)\n",
        "- ```platform```: device platform\n",
        "- ```softwareVersion```: OS version of the device\n",
        "- ```country```: country of user\n",
        "- ```sourceGameId```: id of the publishing game (the game being played)\n",
        "- ```startCount```: how many times the user has started (any) campaigns\n",
        "- ```viewCount```: how many times the user has viewed (any) campaigns\n",
        "- ```clickCount```: how many times the user has clicked (any) campaigns\n",
        "- ```installCount```: how many times the user has installed games from this ad network\n",
        "- ```lastStart```: last time the user started any campaign\n",
        "- ```startCount1d```: how many times the user has started (any) campaigns within the last 24 hours\n",
        "- ```startCount7d```: how many times the user has started (any) campaigns within the last 7 days\n",
        "- ```connectionType```: internet connection type\n",
        "- ```deviceType```: device model\n",
        "- ```install```: binary indicator if install was observed (install=1) or not (install=0) after impression\n",
        "\n",
        "## Submission\n",
        "\n",
        "- This Jupyter notebook\n",
        "- A CSV file containing the predicted install probabilities of ad impressions in the test data. The file should have the following columns:\n",
        "    - ```id```: ID of ad impression in the test data\n",
        "    - ```install_proba```: Predicted install probability of ad impression\n"
      ],
      "id": "LeYfD33i0qqk"
    },
    {
      "cell_type": "markdown",
      "source": [
        "# Analysis\n",
        "by Mateusz Łukasik\n",
        " - start date: 2.05\n",
        " - submitted: 6.05"
      ],
      "metadata": {
        "id": "wo8rXNYSsPZU"
      },
      "id": "wo8rXNYSsPZU"
    },
    {
      "cell_type": "markdown",
      "source": [
        "\n",
        "\n"
      ],
      "metadata": {
        "id": "Z4btb2n1jsKk"
      },
      "id": "Z4btb2n1jsKk"
    },
    {
      "cell_type": "markdown",
      "metadata": {
        "id": "6m_k3Um_0qqq"
      },
      "source": [
        "## Load and prepare data"
      ],
      "id": "6m_k3Um_0qqq"
    },
    {
      "cell_type": "code",
      "source": [
        "from google.colab import drive\n",
        "drive.mount('/content/drive')\n",
        "train_df = pd.read_csv(\"/content/drive/MyDrive/training_data.csv\", sep=\";\", parse_dates=True)\n",
        "train_df = train_df[~train_df['install'].isna()]#inputing install label is classification so there is no use in it"
      ],
      "metadata": {
        "id": "Bc8BuoLlfKnr",
        "colab": {
          "base_uri": "https://localhost:8080/"
        },
        "outputId": "d9bd6b9c-17ae-4356-bf35-646233981cf5"
      },
      "id": "Bc8BuoLlfKnr",
      "execution_count": 2,
      "outputs": [
        {
          "output_type": "stream",
          "name": "stdout",
          "text": [
            "Drive already mounted at /content/drive; to attempt to forcibly remount, call drive.mount(\"/content/drive\", force_remount=True).\n"
          ]
        }
      ]
    },
    {
      "cell_type": "code",
      "source": [
        "train_df = train_df[~train_df['lastStart'].isna()]"
      ],
      "metadata": {
        "id": "jEEpfWFSMciG"
      },
      "id": "jEEpfWFSMciG",
      "execution_count": 3,
      "outputs": []
    },
    {
      "cell_type": "code",
      "source": [
        "train_df['lastStart'] = pd.to_datetime(train_df['lastStart'])"
      ],
      "metadata": {
        "id": "tyEjW2dtL-bv"
      },
      "id": "tyEjW2dtL-bv",
      "execution_count": 4,
      "outputs": []
    },
    {
      "cell_type": "code",
      "source": [
        "train_df = train_df.sort_values(by=['timestamp']).reset_index(drop=True)"
      ],
      "metadata": {
        "id": "uVwQcpC1Ms47"
      },
      "id": "uVwQcpC1Ms47",
      "execution_count": 5,
      "outputs": []
    },
    {
      "cell_type": "code",
      "source": [
        "train_df.columns"
      ],
      "metadata": {
        "colab": {
          "base_uri": "https://localhost:8080/"
        },
        "id": "MCqggieHY_io",
        "outputId": "085e2677-1e4d-4a53-bdee-664d8c6cc980"
      },
      "id": "MCqggieHY_io",
      "execution_count": 6,
      "outputs": [
        {
          "output_type": "execute_result",
          "data": {
            "text/plain": [
              "Index(['id', 'timestamp', 'campaignId', 'platform', 'softwareVersion',\n",
              "       'sourceGameId', 'country', 'startCount', 'viewCount', 'clickCount',\n",
              "       'installCount', 'lastStart', 'startCount1d', 'startCount7d',\n",
              "       'connectionType', 'deviceType', 'install'],\n",
              "      dtype='object')"
            ]
          },
          "metadata": {},
          "execution_count": 6
        }
      ]
    },
    {
      "cell_type": "code",
      "source": [
        "import pandas as pd\n",
        "\n",
        "# Ensure 'timestamp' is in datetime format\n",
        "train_df['timestamp'] = pd.to_datetime(train_df['timestamp'])\n",
        "\n",
        "# Group the DataFrame by hour\n",
        "daily_groups = train_df.groupby(pd.Grouper(key='timestamp', freq='D'))\n",
        "\n",
        "# Initialize a list to hold the sub-DataFrames\n",
        "daily_dfs = []\n",
        "\n",
        "# Iterate over each group and add the sub-DataFrame to the list\n",
        "for _, group in daily_groups:\n",
        "    if not group.empty:  # Check if the group is not empty\n",
        "        daily_dfs.append(group)"
      ],
      "metadata": {
        "id": "8CwLX3FteOUU"
      },
      "id": "8CwLX3FteOUU",
      "execution_count": 7,
      "outputs": []
    },
    {
      "cell_type": "code",
      "source": [
        "[print(i.shape) for i in daily_dfs]"
      ],
      "metadata": {
        "colab": {
          "base_uri": "https://localhost:8080/"
        },
        "id": "f2J4GEr4f5tp",
        "outputId": "d6504fe6-5bc5-49e5-aa58-065e22f9c183"
      },
      "id": "f2J4GEr4f5tp",
      "execution_count": 8,
      "outputs": [
        {
          "output_type": "stream",
          "name": "stdout",
          "text": [
            "(315482, 17)\n",
            "(313690, 17)\n",
            "(306825, 17)\n",
            "(281678, 17)\n",
            "(232467, 17)\n",
            "(225278, 17)\n",
            "(189106, 17)\n",
            "(201060, 17)\n",
            "(214095, 17)\n",
            "(211327, 17)\n",
            "(223277, 17)\n",
            "(257102, 17)\n",
            "(272655, 17)\n",
            "(219667, 17)\n"
          ]
        },
        {
          "output_type": "execute_result",
          "data": {
            "text/plain": [
              "[None,\n",
              " None,\n",
              " None,\n",
              " None,\n",
              " None,\n",
              " None,\n",
              " None,\n",
              " None,\n",
              " None,\n",
              " None,\n",
              " None,\n",
              " None,\n",
              " None,\n",
              " None]"
            ]
          },
          "metadata": {},
          "execution_count": 8
        }
      ]
    },
    {
      "cell_type": "code",
      "source": [
        "import pandas as pd\n",
        "import numpy as np\n",
        "import tensorflow as tf\n",
        "from sklearn.model_selection import train_test_split\n",
        "from sklearn.preprocessing import StandardScaler\n",
        "import pandas as pd\n",
        "import numpy as np\n",
        "from sklearn.preprocessing import StandardScaler\n",
        "\n",
        "import pandas as pd\n",
        "from sklearn.utils import resample\n",
        "\n",
        "class DataPreprocessor:\n",
        "    def __init__(self, numerical_columns, target_column):\n",
        "        \"\"\"\n",
        "        Initialize the preprocessor with the list of numerical columns\n",
        "        to keep and convert to floats, and the name of the target column for undersampling.\n",
        "        \"\"\"\n",
        "        self.numerical_columns = numerical_columns\n",
        "        self.target_column = target_column\n",
        "\n",
        "    def preprocess(self, df):\n",
        "        # Ensure the target column is included for processing\n",
        "        columns = self.numerical_columns + [self.target_column]\n",
        "        self.processed_df = df[columns].copy()\n",
        "\n",
        "        # Convert numerical columns to float dtype\n",
        "        for col in self.numerical_columns:\n",
        "            self.processed_df[col] = pd.to_numeric(self.processed_df[col], errors='coerce').astype(float)\n",
        "\n",
        "        # Perform undersampling\n",
        "        self.df_majority = self.processed_df[self.processed_df[self.target_column] == 0]\n",
        "        self.df_minority = self.processed_df[self.processed_df[self.target_column] != 0]\n",
        "        self.len_ratio = self.df_majority.shape[0]/(self.df_majority.shape[0]+self.df_minority.shape[0])\n",
        "        # Downsample the majority class\n",
        "        df_majority_downsampled = resample(self.df_majority,\n",
        "                                           replace=False,    # sample without replacement\n",
        "                                           n_samples=len(self.df_minority),  # to match minority class size\n",
        "                                           random_state=123) # reproducible results\n",
        "\n",
        "        # Combine minority class with downsampled majority class\n",
        "        balanced_df = pd.concat([self.df_minority, df_majority_downsampled])\n",
        "\n",
        "        return balanced_df\n",
        "\n",
        "import tensorflow as tf\n",
        "\n",
        "class MyModel:\n",
        "    def __init__(self, input_shape):\n",
        "        self.model = self._build_model(input_shape)\n",
        "\n",
        "    def _build_model(self, input_shape):\n",
        "        # Define a simple Sequential model\n",
        "        model = tf.keras.Sequential([\n",
        "            tf.keras.layers.Dense(64, activation='relu', input_shape=(input_shape,)),\n",
        "            tf.keras.layers.Dense(64, activation='relu'),\n",
        "            tf.keras.layers.Dense(1, activation='sigmoid')  # Assuming binary classification\n",
        "        ])\n",
        "        model.compile(optimizer='adam', loss='binary_crossentropy', metrics=['accuracy'])\n",
        "        return model\n",
        "\n",
        "    def fit(self, X, y, epochs=10, validation_split=0.2):\n",
        "        self.model.fit(X, y, epochs=epochs, validation_split=validation_split)\n",
        "\n",
        "    def predict(self, X):\n",
        "        return self.model.predict(X)"
      ],
      "metadata": {
        "id": "0WqndU3dN48v"
      },
      "id": "0WqndU3dN48v",
      "execution_count": 43,
      "outputs": []
    },
    {
      "cell_type": "code",
      "source": [
        "class Postprocessor:\n",
        "    def __init__(self, model, adjusted_threshold):\n",
        "        self.model = model\n",
        "        self.adjusted_threshold = adjusted_threshold\n",
        "\n",
        "    def predict(self, X):\n",
        "        # Get the model's prediction probabilities\n",
        "        predictions = self.model.predict(X)\n",
        "\n",
        "        # Apply the adjusted threshold to these probabilities to get binary predictions\n",
        "        binary_predictions = (predictions > self.adjusted_threshold).astype(int)\n",
        "        return binary_predictions\n",
        "postprocessor = Postprocessor(my_model,preprocessor.len_ratio)"
      ],
      "metadata": {
        "id": "gsXUivaj2KIZ"
      },
      "id": "gsXUivaj2KIZ",
      "execution_count": 50,
      "outputs": []
    },
    {
      "cell_type": "code",
      "source": [
        "numerical_columns = ['startCount', 'viewCount', 'clickCount', 'installCount', 'startCount1d', 'startCount7d']\n",
        "target_column = 'install'  # Assuming 'install' is your target column\n",
        "\n",
        "# Initialize the preprocessor\n",
        "preprocessor = DataPreprocessor(numerical_columns=numerical_columns, target_column=target_column)\n",
        "\n",
        "# Preprocess your DataFrame\n",
        "balanced_df = preprocessor.preprocess(daily_dfs[0])\n",
        "X = balanced_df.drop(columns=[target_column])\n",
        "y = balanced_df[target_column]\n",
        "# Convert the target to a numeric type, if it's not already\n",
        "y = pd.to_numeric(y, errors='coerce')\n",
        "input_shape = X.shape[1]\n",
        "# Initialize and train the model\n",
        "my_model = MyModel(input_shape)\n",
        "my_model.fit(X, y)"
      ],
      "metadata": {
        "colab": {
          "base_uri": "https://localhost:8080/"
        },
        "id": "5rS6WT-PLVsR",
        "outputId": "0781021f-20f5-4bda-a8d0-61aa7a2bc33c"
      },
      "id": "5rS6WT-PLVsR",
      "execution_count": 82,
      "outputs": [
        {
          "output_type": "stream",
          "name": "stdout",
          "text": [
            "Epoch 1/10\n",
            "174/174 [==============================] - 2s 4ms/step - loss: 0.8487 - accuracy: 0.5904 - val_loss: 0.8645 - val_accuracy: 0.2208\n",
            "Epoch 2/10\n",
            "174/174 [==============================] - 0s 3ms/step - loss: 0.6765 - accuracy: 0.6448 - val_loss: 0.8747 - val_accuracy: 0.2453\n",
            "Epoch 3/10\n",
            "174/174 [==============================] - 0s 3ms/step - loss: 0.6594 - accuracy: 0.6502 - val_loss: 1.0655 - val_accuracy: 0.0981\n",
            "Epoch 4/10\n",
            "174/174 [==============================] - 1s 3ms/step - loss: 0.6732 - accuracy: 0.6462 - val_loss: 0.8186 - val_accuracy: 0.2958\n",
            "Epoch 5/10\n",
            "174/174 [==============================] - 1s 3ms/step - loss: 0.6990 - accuracy: 0.6471 - val_loss: 0.8380 - val_accuracy: 0.2691\n",
            "Epoch 6/10\n",
            "174/174 [==============================] - 0s 3ms/step - loss: 0.6490 - accuracy: 0.6523 - val_loss: 1.2752 - val_accuracy: 0.0375\n",
            "Epoch 7/10\n",
            "174/174 [==============================] - 1s 4ms/step - loss: 0.6792 - accuracy: 0.6518 - val_loss: 0.8076 - val_accuracy: 0.3189\n",
            "Epoch 8/10\n",
            "174/174 [==============================] - 0s 3ms/step - loss: 0.6407 - accuracy: 0.6543 - val_loss: 0.6997 - val_accuracy: 0.4553\n",
            "Epoch 9/10\n",
            "174/174 [==============================] - 0s 3ms/step - loss: 0.6484 - accuracy: 0.6554 - val_loss: 0.9440 - val_accuracy: 0.1962\n",
            "Epoch 10/10\n",
            "174/174 [==============================] - 0s 3ms/step - loss: 0.6437 - accuracy: 0.6608 - val_loss: 0.9485 - val_accuracy: 0.2424\n"
          ]
        }
      ]
    },
    {
      "cell_type": "code",
      "source": [
        "#ewaluacja\n",
        "B = postprocessor.predict(preprocessor.processed_df.drop(columns=[target_column]))\n",
        "sum(B)/len(B)"
      ],
      "metadata": {
        "colab": {
          "base_uri": "https://localhost:8080/"
        },
        "id": "xqjGeBaP-uwq",
        "outputId": "2dae59c3-15ee-4597-bd47-7e09a7c6aab6"
      },
      "id": "xqjGeBaP-uwq",
      "execution_count": 83,
      "outputs": [
        {
          "output_type": "stream",
          "name": "stdout",
          "text": [
            "9859/9859 [==============================] - 17s 2ms/step\n"
          ]
        },
        {
          "output_type": "execute_result",
          "data": {
            "text/plain": [
              "array([0.029783])"
            ]
          },
          "metadata": {},
          "execution_count": 83
        }
      ]
    },
    {
      "cell_type": "code",
      "source": [
        "from sklearn.metrics import accuracy_score, precision_score, recall_score, f1_score, roc_auc_score\n",
        "for i in enumerate(daily_dfs):\n",
        "  if i[0]>0.0:\n",
        "    print(i[0])\n",
        "    preprocessor_new = DataPreprocessor(numerical_columns=numerical_columns, target_column=target_column)\n",
        "    preprocessor_new.preprocess(daily_dfs[i[0]])\n",
        "    predictions_on_new_day = postprocessor.predict(preprocessor_new.processed_df.drop(columns=[target_column]))\n",
        "    # Calculate metrics\n",
        "    accuracy_pre = accuracy_score(preprocessor_new.processed_df[target_column], predictions_on_new_day)\n",
        "    precision_pre = precision_score(preprocessor_new.processed_df[target_column], predictions_on_new_day)\n",
        "    recall_pre = recall_score(preprocessor_new.processed_df[target_column], predictions_on_new_day)\n",
        "    f1_pre = f1_score(preprocessor_new.processed_df[target_column], predictions_on_new_day)\n",
        "    roc_auc_pre = roc_auc_score(preprocessor_new.processed_df[target_column], predictions_on_new_day)\n",
        "\n",
        "    print(f\"Accuracy: {accuracy_pre}\")\n",
        "    print(f\"Precision: {precision_pre}\")\n",
        "    print(f\"Recall: {recall_pre}\")\n",
        "    print(f\"F1 Score: {f1_pre}\")\n",
        "    print(f\"ROC-AUC Score: {roc_auc_pre}\")\n",
        "    predictions_on_new_day_flat = predictions_on_new_day.flatten()\n",
        "    is_positive_prediction = predictions_on_new_day_flat.astype(bool)\n",
        "    selected_rows = preprocessor_new.processed_df[is_positive_prediction]\n",
        "    train_df_updated = pd.concat([preprocessor.processed_df, selected_rows])\n",
        "    print(f\"New length for ith:{i[0]} iteration {train_df_updated.shape} now proceeding to train model again:\")\n",
        "    numerical_columns = ['startCount', 'viewCount', 'clickCount', 'installCount', 'startCount1d', 'startCount7d']\n",
        "    target_column = 'install'  # Assuming 'install' is your target column\n",
        "\n",
        "    # Initialize the preprocessor\n",
        "    preprocessor = DataPreprocessor(numerical_columns=numerical_columns, target_column=target_column)\n",
        "\n",
        "    # Preprocess your DataFrame\n",
        "    balanced_df = preprocessor.preprocess(train_df_updated)\n",
        "    X = balanced_df.drop(columns=[target_column])\n",
        "    y = balanced_df[target_column]\n",
        "    # Convert the target to a numeric type, if it's not already\n",
        "    y = pd.to_numeric(y, errors='coerce')\n",
        "    input_shape = X.shape[1]\n",
        "    # Initialize and train the model\n",
        "    my_model = MyModel(input_shape)\n",
        "    my_model.fit(X, y)"
      ],
      "metadata": {
        "colab": {
          "base_uri": "https://localhost:8080/"
        },
        "id": "9GE0-LO_ERs2",
        "outputId": "0626e3cc-fb63-4144-c267-7665c8b38b24"
      },
      "id": "9GE0-LO_ERs2",
      "execution_count": 84,
      "outputs": [
        {
          "output_type": "stream",
          "name": "stdout",
          "text": [
            "1\n",
            "9803/9803 [==============================] - 15s 2ms/step\n",
            "Accuracy: 0.9583123465842074\n",
            "Precision: 0.006911718504555451\n",
            "Recall: 0.018032786885245903\n",
            "F1 Score: 0.0099931864637747\n",
            "ROC-AUC Score: 0.49372271218597036\n",
            "New length for ith:1 iteration (325031, 7) now proceeding to train model again:\n",
            "Epoch 1/10\n",
            "177/177 [==============================] - 2s 3ms/step - loss: 0.8619 - accuracy: 0.6068 - val_loss: 1.1860 - val_accuracy: 0.1211\n",
            "Epoch 2/10\n",
            "177/177 [==============================] - 0s 3ms/step - loss: 0.7145 - accuracy: 0.6410 - val_loss: 0.7533 - val_accuracy: 0.3562\n",
            "Epoch 3/10\n",
            "177/177 [==============================] - 0s 2ms/step - loss: 0.7558 - accuracy: 0.6343 - val_loss: 0.6732 - val_accuracy: 0.4377\n",
            "Epoch 4/10\n",
            "177/177 [==============================] - 0s 3ms/step - loss: 0.7235 - accuracy: 0.6481 - val_loss: 0.8194 - val_accuracy: 0.3237\n",
            "Epoch 5/10\n",
            "177/177 [==============================] - 0s 2ms/step - loss: 0.6677 - accuracy: 0.6490 - val_loss: 0.6460 - val_accuracy: 0.4688\n",
            "Epoch 6/10\n",
            "177/177 [==============================] - 0s 2ms/step - loss: 0.7034 - accuracy: 0.6420 - val_loss: 1.4319 - val_accuracy: 0.0581\n",
            "Epoch 7/10\n",
            "177/177 [==============================] - 0s 2ms/step - loss: 0.6738 - accuracy: 0.6431 - val_loss: 1.0854 - val_accuracy: 0.1537\n",
            "Epoch 8/10\n",
            "177/177 [==============================] - 0s 2ms/step - loss: 0.6666 - accuracy: 0.6518 - val_loss: 1.4763 - val_accuracy: 0.0545\n",
            "Epoch 9/10\n",
            "177/177 [==============================] - 0s 3ms/step - loss: 0.7241 - accuracy: 0.6451 - val_loss: 0.9248 - val_accuracy: 0.2054\n",
            "Epoch 10/10\n",
            "177/177 [==============================] - 0s 3ms/step - loss: 0.7033 - accuracy: 0.6514 - val_loss: 0.9127 - val_accuracy: 0.2691\n",
            "2\n",
            "9589/9589 [==============================] - 15s 2ms/step\n",
            "Accuracy: 0.9573959097205247\n",
            "Precision: 0.0081799591002045\n",
            "Recall: 0.023174971031286212\n",
            "F1 Score: 0.012091898428053206\n",
            "ROC-AUC Score: 0.49560056512391415\n",
            "New length for ith:2 iteration (334811, 7) now proceeding to train model again:\n",
            "Epoch 1/10\n",
            "181/181 [==============================] - 1s 4ms/step - loss: 0.8402 - accuracy: 0.6060 - val_loss: 1.4675 - val_accuracy: 0.0069\n",
            "Epoch 2/10\n",
            "181/181 [==============================] - 0s 3ms/step - loss: 0.7456 - accuracy: 0.6344 - val_loss: 0.8775 - val_accuracy: 0.2258\n",
            "Epoch 3/10\n",
            "181/181 [==============================] - 0s 3ms/step - loss: 0.7366 - accuracy: 0.6377 - val_loss: 0.7332 - val_accuracy: 0.3774\n",
            "Epoch 4/10\n",
            "181/181 [==============================] - 1s 3ms/step - loss: 0.7356 - accuracy: 0.6372 - val_loss: 0.9933 - val_accuracy: 0.2334\n",
            "Epoch 5/10\n",
            "181/181 [==============================] - 1s 3ms/step - loss: 0.7048 - accuracy: 0.6392 - val_loss: 0.8000 - val_accuracy: 0.3137\n",
            "Epoch 6/10\n",
            "181/181 [==============================] - 1s 3ms/step - loss: 0.7021 - accuracy: 0.6451 - val_loss: 0.5023 - val_accuracy: 0.6150\n",
            "Epoch 7/10\n",
            "181/181 [==============================] - 0s 3ms/step - loss: 0.7658 - accuracy: 0.6358 - val_loss: 0.9287 - val_accuracy: 0.2105\n",
            "Epoch 8/10\n",
            "181/181 [==============================] - 1s 3ms/step - loss: 0.6826 - accuracy: 0.6425 - val_loss: 0.8814 - val_accuracy: 0.2569\n",
            "Epoch 9/10\n",
            "181/181 [==============================] - 0s 3ms/step - loss: 0.7124 - accuracy: 0.6375 - val_loss: 1.0598 - val_accuracy: 0.0831\n",
            "Epoch 10/10\n",
            "181/181 [==============================] - 0s 3ms/step - loss: 0.6729 - accuracy: 0.6484 - val_loss: 0.8805 - val_accuracy: 0.2161\n",
            "3\n",
            "8803/8803 [==============================] - 14s 2ms/step\n",
            "Accuracy: 0.9576466745716741\n",
            "Precision: 0.0055267313331829465\n",
            "Recall: 0.01549652118912081\n",
            "F1 Score: 0.008147655470568674\n",
            "ROC-AUC Score: 0.4919197265067521\n",
            "New length for ith:3 iteration (343677, 7) now proceeding to train model again:\n",
            "Epoch 1/10\n",
            "183/183 [==============================] - 1s 4ms/step - loss: 0.8045 - accuracy: 0.6198 - val_loss: 0.8701 - val_accuracy: 0.2848\n",
            "Epoch 2/10\n",
            "183/183 [==============================] - 0s 2ms/step - loss: 0.7760 - accuracy: 0.6398 - val_loss: 0.6626 - val_accuracy: 0.4556\n",
            "Epoch 3/10\n",
            "183/183 [==============================] - 0s 3ms/step - loss: 0.7755 - accuracy: 0.6463 - val_loss: 0.9543 - val_accuracy: 0.2336\n",
            "Epoch 4/10\n",
            "183/183 [==============================] - 0s 2ms/step - loss: 0.6907 - accuracy: 0.6432 - val_loss: 0.8609 - val_accuracy: 0.2801\n",
            "Epoch 5/10\n",
            "183/183 [==============================] - 0s 3ms/step - loss: 0.6764 - accuracy: 0.6529 - val_loss: 0.7840 - val_accuracy: 0.3429\n",
            "Epoch 6/10\n",
            "183/183 [==============================] - 1s 3ms/step - loss: 0.6845 - accuracy: 0.6511 - val_loss: 1.4279 - val_accuracy: 0.0328\n",
            "Epoch 7/10\n",
            "183/183 [==============================] - 1s 4ms/step - loss: 0.6759 - accuracy: 0.6546 - val_loss: 1.1165 - val_accuracy: 0.1093\n",
            "Epoch 8/10\n",
            "183/183 [==============================] - 1s 4ms/step - loss: 0.7398 - accuracy: 0.6422 - val_loss: 0.6673 - val_accuracy: 0.4891\n",
            "Epoch 9/10\n",
            "183/183 [==============================] - 1s 4ms/step - loss: 0.7718 - accuracy: 0.6449 - val_loss: 1.2371 - val_accuracy: 0.0690\n",
            "Epoch 10/10\n",
            "183/183 [==============================] - 1s 4ms/step - loss: 0.6839 - accuracy: 0.6546 - val_loss: 0.9055 - val_accuracy: 0.2445\n",
            "4\n",
            "7265/7265 [==============================] - 11s 1ms/step\n",
            "Accuracy: 0.9631904743468965\n",
            "Precision: 0.007860262008733625\n",
            "Recall: 0.015400410677618069\n",
            "F1 Score: 0.01040823406961952\n",
            "ROC-AUC Score: 0.4953279036114788\n",
            "New length for ith:4 iteration (349402, 7) now proceeding to train model again:\n",
            "Epoch 1/10\n",
            "186/186 [==============================] - 1s 3ms/step - loss: 0.7940 - accuracy: 0.6239 - val_loss: 0.6358 - val_accuracy: 0.4460\n",
            "Epoch 2/10\n",
            "186/186 [==============================] - 1s 3ms/step - loss: 0.7222 - accuracy: 0.6470 - val_loss: 0.7050 - val_accuracy: 0.4076\n",
            "Epoch 3/10\n",
            "186/186 [==============================] - 0s 3ms/step - loss: 0.7352 - accuracy: 0.6492 - val_loss: 0.9785 - val_accuracy: 0.1957\n",
            "Epoch 4/10\n",
            "186/186 [==============================] - 0s 3ms/step - loss: 0.7651 - accuracy: 0.6516 - val_loss: 2.1056 - val_accuracy: 6.7476e-04\n",
            "Epoch 5/10\n",
            "186/186 [==============================] - 1s 4ms/step - loss: 0.7181 - accuracy: 0.6545 - val_loss: 0.8673 - val_accuracy: 0.2706\n",
            "Epoch 6/10\n",
            "186/186 [==============================] - 1s 4ms/step - loss: 0.6883 - accuracy: 0.6462 - val_loss: 0.7850 - val_accuracy: 0.4055\n",
            "Epoch 7/10\n",
            "186/186 [==============================] - 1s 4ms/step - loss: 0.6984 - accuracy: 0.6499 - val_loss: 0.6812 - val_accuracy: 0.4561\n",
            "Epoch 8/10\n",
            "186/186 [==============================] - 1s 5ms/step - loss: 0.6826 - accuracy: 0.6563 - val_loss: 1.2171 - val_accuracy: 0.0486\n",
            "Epoch 9/10\n",
            "186/186 [==============================] - 1s 3ms/step - loss: 0.7246 - accuracy: 0.6521 - val_loss: 0.7833 - val_accuracy: 0.3617\n",
            "Epoch 10/10\n",
            "186/186 [==============================] - 0s 2ms/step - loss: 0.6908 - accuracy: 0.6541 - val_loss: 0.7607 - val_accuracy: 0.3711\n"
          ]
        }
      ]
    }
  ],
  "metadata": {
    "colab": {
      "provenance": [],
      "gpuType": "T4",
      "include_colab_link": true
    },
    "kernelspec": {
      "display_name": "Python 3",
      "name": "python3"
    },
    "language_info": {
      "codemirror_mode": {
        "name": "ipython",
        "version": 3
      },
      "file_extension": ".py",
      "mimetype": "text/x-python",
      "name": "python",
      "nbconvert_exporter": "python",
      "pygments_lexer": "ipython3",
      "version": "3.8.3"
    },
    "metadata": {
      "interpreter": {
        "hash": "15c3220e82aafb8408901b964fa2a57de26e04db32fe34c7748a0f76eb189db1"
      }
    }
  },
  "nbformat": 4,
  "nbformat_minor": 5
}